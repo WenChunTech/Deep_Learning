{
 "cells": [
  {
   "cell_type": "code",
   "execution_count": 1,
   "metadata": {},
   "outputs": [],
   "source": [
    "import tensorflow as tf\n",
    "from keras import datasets"
   ]
  },
  {
   "cell_type": "code",
   "execution_count": 2,
   "metadata": {},
   "outputs": [
    {
     "name": "stdout",
     "output_type": "stream",
     "text": [
      "(60000, 28, 28) (60000,) <dtype: 'float32'> <dtype: 'int32'>\n",
      "tf.Tensor(0.0, shape=(), dtype=float32) tf.Tensor(1.0, shape=(), dtype=float32)\n",
      "tf.Tensor(0, shape=(), dtype=int32) tf.Tensor(9, shape=(), dtype=int32)\n"
     ]
    }
   ],
   "source": [
    "# x: [60k, 28, 28]\n",
    "# y: [60k]\n",
    "(x, y), _ = datasets.mnist.load_data()\n",
    "\n",
    "x = tf.convert_to_tensor(x, dtype=tf.float32) / 255.0\n",
    "y = tf.convert_to_tensor(y, dtype=tf.int32)\n",
    "\n",
    "print(x.shape, y.shape, x.dtype, y.dtype)\n",
    "print(tf.reduce_min(x), tf.reduce_max(x))\n",
    "print(tf.reduce_min(y), tf.reduce_max(y))"
   ]
  },
  {
   "cell_type": "code",
   "execution_count": 3,
   "metadata": {},
   "outputs": [
    {
     "name": "stdout",
     "output_type": "stream",
     "text": [
      "batch: (128, 28, 28) (128,)\n"
     ]
    }
   ],
   "source": [
    "train_db = tf.data.Dataset.from_tensor_slices((x, y)).batch(128).repeat(10)\n",
    "\n",
    "train_iter = iter(train_db)\n",
    "\n",
    "sample = next(train_iter)\n",
    "print(\"batch:\", sample[0].shape, sample[1].shape)"
   ]
  },
  {
   "cell_type": "code",
   "execution_count": 4,
   "metadata": {},
   "outputs": [],
   "source": [
    "w1 = tf.Variable(tf.random.truncated_normal([784, 256], stddev=0.1))\n",
    "b1 = tf.Variable(tf.zeros([256]))\n",
    "\n",
    "w2 = tf.Variable(tf.random.truncated_normal([256, 128], stddev=0.1))\n",
    "b2 = tf.Variable(tf.zeros([128]))\n",
    "\n",
    "w3 = tf.Variable(tf.random.truncated_normal([128, 10], stddev=0.1))\n",
    "b3 = tf.Variable(tf.zeros([10]))\n",
    "lr = 0.001"
   ]
  },
  {
   "cell_type": "code",
   "execution_count": 5,
   "metadata": {},
   "outputs": [
    {
     "name": "stdout",
     "output_type": "stream",
     "text": [
      "0 loss: 0.46193838119506836\n",
      "100 loss: 0.2212197482585907\n",
      "200 loss: 0.19767668843269348\n",
      "300 loss: 0.19848474860191345\n",
      "400 loss: 0.15623334050178528\n",
      "500 loss: 0.1642087697982788\n",
      "600 loss: 0.15863755345344543\n",
      "700 loss: 0.16028380393981934\n",
      "800 loss: 0.16142795979976654\n",
      "900 loss: 0.13589081168174744\n",
      "1000 loss: 0.14197833836078644\n",
      "1100 loss: 0.14610497653484344\n",
      "1200 loss: 0.1381656527519226\n",
      "1300 loss: 0.13717544078826904\n",
      "1400 loss: 0.11375860124826431\n",
      "1500 loss: 0.1206444725394249\n",
      "1600 loss: 0.12496642768383026\n",
      "1700 loss: 0.12156470119953156\n",
      "1800 loss: 0.12355168163776398\n",
      "1900 loss: 0.10537280142307281\n",
      "2000 loss: 0.11864757537841797\n",
      "2100 loss: 0.10711614042520523\n",
      "2200 loss: 0.10748650878667831\n",
      "2300 loss: 0.10843000560998917\n",
      "2400 loss: 0.10549235343933105\n",
      "2500 loss: 0.10549177974462509\n",
      "2600 loss: 0.10727670043706894\n",
      "2700 loss: 0.11270985752344131\n",
      "2800 loss: 0.10165496915578842\n",
      "2900 loss: 0.09539054334163666\n",
      "3000 loss: 0.10339958965778351\n",
      "3100 loss: 0.09295061975717545\n",
      "3200 loss: 0.10968729108572006\n",
      "3300 loss: 0.09816448390483856\n",
      "3400 loss: 0.0829983800649643\n",
      "3500 loss: 0.09377951920032501\n",
      "3600 loss: 0.09155022352933884\n",
      "3700 loss: 0.0918741524219513\n",
      "3800 loss: 0.0891760066151619\n",
      "3900 loss: 0.09129765629768372\n",
      "4000 loss: 0.09839727729558945\n",
      "4100 loss: 0.08360376209020615\n",
      "4200 loss: 0.08837388455867767\n",
      "4300 loss: 0.08554522693157196\n",
      "4400 loss: 0.07890661060810089\n",
      "4500 loss: 0.08619498461484909\n",
      "4600 loss: 0.07949940115213394\n"
     ]
    }
   ],
   "source": [
    "\n",
    "\n",
    "for step, (x, y) in enumerate(train_db):\n",
    "    # x: [128, 28, 28]\n",
    "    # y: [128]\n",
    "\n",
    "    # [b, 28, 28] => [b, 28 * 28]\n",
    "    x = tf.reshape(x, [-1, 28 * 28])\n",
    "\n",
    "    with tf.GradientTape() as tape:\n",
    "        # x: [b, 28 * 28]\n",
    "        # h1 = x@w1 + b1\n",
    "        # [b, 784] @ [784, 256] + [256] => [b, 256] + [256] => [b, 256] + [b, 256]\n",
    "        h1 = x @ w1 + tf.broadcast_to(b1, [x.shape[0], 256])\n",
    "        h1 = tf.nn.relu(h1)\n",
    "        # [b, 256] => [b, 128]\n",
    "        h2 = h1 @ w2 + b2\n",
    "        h2 = tf.nn.relu(h2)\n",
    "        out = h2 @ w3 + b3\n",
    "        # compute loss\n",
    "        # out: [b, 10]\n",
    "        # y: [b] => [b, 10]\n",
    "        y_onehot = tf.one_hot(y, depth=10)\n",
    "\n",
    "        # mse = mean(sum(y-out)^2)\n",
    "        # [b, 10]\n",
    "        loss = tf.square(y_onehot - out)\n",
    "        loss = tf.reduce_mean(loss)\n",
    "        # loss = tf.reduce_mean(loss)\n",
    "\n",
    "    grads = tape.gradient(loss, [w1, b1, w2, b2, w3, b3])\n",
    "    w1.assign_sub(lr * grads[0])\n",
    "    b1.assign_sub(lr * grads[1])\n",
    "    w2.assign_sub(lr * grads[2])\n",
    "    b2.assign_sub(lr * grads[3])\n",
    "    w3.assign_sub(lr * grads[4])\n",
    "    b3.assign_sub(lr * grads[5])\n",
    "    if step % 100 == 0:\n",
    "        print(step, \"loss:\", float(loss))\n"
   ]
  },
  {
   "cell_type": "code",
   "execution_count": 4,
   "metadata": {
    "notebookRunGroups": {
     "groupValue": ""
    }
   },
   "outputs": [
    {
     "name": "stdout",
     "output_type": "stream",
     "text": [
      "/mnt/d/project/python/machine_learning\n"
     ]
    }
   ],
   "source": [
    "!wsl pwd"
   ]
  }
 ],
 "metadata": {
  "kernelspec": {
   "display_name": "py38",
   "language": "python",
   "name": "python3"
  },
  "language_info": {
   "codemirror_mode": {
    "name": "ipython",
    "version": 3
   },
   "file_extension": ".py",
   "mimetype": "text/x-python",
   "name": "python",
   "nbconvert_exporter": "python",
   "pygments_lexer": "ipython3",
   "version": "3.8.13 (default, Mar 28 2022, 06:59:08) [MSC v.1916 64 bit (AMD64)]"
  },
  "orig_nbformat": 4,
  "vscode": {
   "interpreter": {
    "hash": "5e388db450297362f23a90c05e3ff081ee330fd641b36492e58ae9093e0d933b"
   }
  }
 },
 "nbformat": 4,
 "nbformat_minor": 2
}
