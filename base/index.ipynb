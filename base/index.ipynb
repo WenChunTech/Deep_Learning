{
 "cells": [
  {
   "cell_type": "code",
   "execution_count": 34,
   "metadata": {},
   "outputs": [
    {
     "name": "stdout",
     "output_type": "stream",
     "text": [
      "log before\n",
      "username is: sjx\n",
      "log after\n"
     ]
    }
   ],
   "source": [
    "def log(f):\n",
    "    \n",
    "    def wrapper(name):\n",
    "        print(\"log before\")\n",
    "        f(name)\n",
    "        print(\"log after\")\n",
    "    return wrapper \n",
    "    \n",
    "\n",
    "\n",
    "@log\n",
    "def login(name):\n",
    "    print('username is:', name)\n",
    "\n",
    "login(\"sjx\")"
   ]
  },
  {
   "cell_type": "code",
   "execution_count": 35,
   "metadata": {},
   "outputs": [
    {
     "name": "stdout",
     "output_type": "stream",
     "text": [
      "{'a': 1, 'b': 2}\n",
      "{'b': 2}\n",
      "dict_keys(['b'])\n",
      "dict_values([2])\n",
      "dict_items([('b', 2)])\n",
      "[1, 2, 3]\n",
      "[1, 2, 3, 4, 4, [4, 4]]\n",
      "[1, 2, 4, 4, [4, 4]]\n",
      "[5, 2, 4, 4, [4, 4]]\n",
      "[5, 2, 4, 1, 4, [4, 4]]\n",
      "0\n",
      "not exist\n"
     ]
    }
   ],
   "source": [
    "a = dict()\n",
    "b = dict()\n",
    "a['a'] = 1\n",
    "b[\"b\"] = 2\n",
    "a.update(b)\n",
    "print(a)\n",
    "\n",
    "a.pop(\"a\")\n",
    "print(a)\n",
    "\n",
    "\n",
    "print(a.keys())\n",
    "print(a.values())\n",
    "print(a.items())\n",
    "\n",
    "\n",
    "c = [1,2,3]\n",
    "d = [4,4]\n",
    "print(c)\n",
    "c.extend(d)\n",
    "c.append(d)\n",
    "print(c)\n",
    "c.remove(3)\n",
    "print(c)\n",
    "c[0] = 5\n",
    "print(c)\n",
    "c.insert(3, 1)\n",
    "print(c)\n",
    "print(c.index(5))\n",
    "if 10 in c:\n",
    "    print(c.index(10))\n",
    "else:\n",
    "    print(\"not exist\")\n",
    "\n"
   ]
  },
  {
   "cell_type": "code",
   "execution_count": 39,
   "metadata": {},
   "outputs": [
    {
     "name": "stdout",
     "output_type": "stream",
     "text": [
      "sjx\n"
     ]
    }
   ],
   "source": [
    "class A:\n",
    "\n",
    "    def __init__(self, name):\n",
    "        self.name = name\n",
    "\n",
    "    def print_name(self):\n",
    "        print(self.name)\n",
    "\n",
    "\n",
    "class B(A):\n",
    "\n",
    "    def __init__(self, name, id):\n",
    "        self.name = name\n",
    "        super(B, self).__init__(name)\n",
    "\n",
    "    def print_name(self):\n",
    "        print(self.name)\n",
    "\n",
    "\n",
    "a = B(\"sjx\", 1)\n",
    "a.print_name()"
   ]
  },
  {
   "cell_type": "code",
   "execution_count": 51,
   "metadata": {},
   "outputs": [
    {
     "name": "stdout",
     "output_type": "stream",
     "text": [
      "c\n",
      "a\n",
      "d\n",
      "f\n"
     ]
    },
    {
     "ename": "IndexError",
     "evalue": "string index out of range",
     "output_type": "error",
     "traceback": [
      "\u001b[1;31m---------------------------------------------------------------------------\u001b[0m",
      "\u001b[1;31mIndexError\u001b[0m                                Traceback (most recent call last)",
      "\u001b[1;32md:\\project\\python\\Deep_Learning\\base\\index.ipynb 单元格 4\u001b[0m in \u001b[0;36m<cell line: 6>\u001b[1;34m()\u001b[0m\n\u001b[0;32m      <a href='vscode-notebook-cell:/d%3A/project/python/Deep_Learning/base/index.ipynb#X33sZmlsZQ%3D%3D?line=2'>3</a>\u001b[0m \u001b[39mfor\u001b[39;00m i \u001b[39min\u001b[39;00m a:\n\u001b[0;32m      <a href='vscode-notebook-cell:/d%3A/project/python/Deep_Learning/base/index.ipynb#X33sZmlsZQ%3D%3D?line=3'>4</a>\u001b[0m     \u001b[39mprint\u001b[39m(i)\n\u001b[1;32m----> <a href='vscode-notebook-cell:/d%3A/project/python/Deep_Learning/base/index.ipynb#X33sZmlsZQ%3D%3D?line=5'>6</a>\u001b[0m c \u001b[39m=\u001b[39m \u001b[39msorted\u001b[39;49m(a, key\u001b[39m=\u001b[39;49m\u001b[39mlambda\u001b[39;49;00m x: x[\u001b[39m1\u001b[39;49m])\n\u001b[0;32m      <a href='vscode-notebook-cell:/d%3A/project/python/Deep_Learning/base/index.ipynb#X33sZmlsZQ%3D%3D?line=6'>7</a>\u001b[0m c\n",
      "\u001b[1;32md:\\project\\python\\Deep_Learning\\base\\index.ipynb 单元格 4\u001b[0m in \u001b[0;36m<lambda>\u001b[1;34m(x)\u001b[0m\n\u001b[0;32m      <a href='vscode-notebook-cell:/d%3A/project/python/Deep_Learning/base/index.ipynb#X33sZmlsZQ%3D%3D?line=2'>3</a>\u001b[0m \u001b[39mfor\u001b[39;00m i \u001b[39min\u001b[39;00m a:\n\u001b[0;32m      <a href='vscode-notebook-cell:/d%3A/project/python/Deep_Learning/base/index.ipynb#X33sZmlsZQ%3D%3D?line=3'>4</a>\u001b[0m     \u001b[39mprint\u001b[39m(i)\n\u001b[1;32m----> <a href='vscode-notebook-cell:/d%3A/project/python/Deep_Learning/base/index.ipynb#X33sZmlsZQ%3D%3D?line=5'>6</a>\u001b[0m c \u001b[39m=\u001b[39m \u001b[39msorted\u001b[39m(a, key\u001b[39m=\u001b[39m\u001b[39mlambda\u001b[39;00m x: x[\u001b[39m1\u001b[39;49m])\n\u001b[0;32m      <a href='vscode-notebook-cell:/d%3A/project/python/Deep_Learning/base/index.ipynb#X33sZmlsZQ%3D%3D?line=6'>7</a>\u001b[0m c\n",
      "\u001b[1;31mIndexError\u001b[0m: string index out of range"
     ]
    }
   ],
   "source": [
    "a = {'c': 3, 'a': 1, 'd': 0, 'f': 4}\n",
    "\n",
    "for i in a:\n",
    "    print(i)\n",
    "\n"
   ]
  },
  {
   "cell_type": "code",
   "execution_count": null,
   "metadata": {},
   "outputs": [],
   "source": []
  }
 ],
 "metadata": {
  "kernelspec": {
   "display_name": "base",
   "language": "python",
   "name": "python3"
  },
  "language_info": {
   "codemirror_mode": {
    "name": "ipython",
    "version": 3
   },
   "file_extension": ".py",
   "mimetype": "text/x-python",
   "name": "python",
   "nbconvert_exporter": "python",
   "pygments_lexer": "ipython3",
   "version": "3.9.13"
  },
  "orig_nbformat": 4,
  "vscode": {
   "interpreter": {
    "hash": "3310467ee498335a253e0baee96358203e0c88417c5604ba3a9ce8aa94f70c7f"
   }
  }
 },
 "nbformat": 4,
 "nbformat_minor": 2
}
