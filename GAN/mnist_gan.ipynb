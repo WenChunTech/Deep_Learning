{
 "cells": [
  {
   "cell_type": "code",
   "execution_count": null,
   "metadata": {},
   "outputs": [],
   "source": [
    "import torch\n",
    "import torch.nn as nn\n",
    "import torch.nn.functional as F\n",
    "import torchvision\n",
    "from torchvision import transforms\n",
    "from torchinfo import summary\n",
    "from torch.utils.tensorboard import SummaryWriter\n"
   ]
  },
  {
   "cell_type": "code",
   "execution_count": null,
   "metadata": {},
   "outputs": [],
   "source": [
    "writer = SummaryWriter('./logs')\n",
    "device = torch.device(\"cuda\" if torch.cuda.is_available() else \"cpu\")\n",
    "batch_size = 32\n",
    "\n",
    "transform = transforms.Compose([transforms.ToTensor(), transforms.Normalize((0.5), (0.5))])\n",
    "\n",
    "train_dataset = torchvision.datasets.MNIST(root='./data', train=True, download=False, transform=transform)\n",
    "test_dataset = torchvision.datasets.MNIST(root='./data', train=False, download=False, transform=transform)\n",
    "\n",
    "train_loader = torch.utils.data.DataLoader(dataset=train_dataset, batch_size=32, shuffle=True)\n",
    "test_loader = torch.utils.data.DataLoader(dataset=test_dataset, batch_size=32, shuffle=True)\n",
    "\n",
    "z_dim = 100\n",
    "mnist_dim = train_dataset.train_data.size(1) * train_dataset.train_data.size(2)"
   ]
  },
  {
   "cell_type": "code",
   "execution_count": null,
   "metadata": {},
   "outputs": [],
   "source": [
    "class Generator(nn.Module):\n",
    "\n",
    "    def __init__(self, g_input_dim, g_output_dim) -> None:\n",
    "        super().__init__()\n",
    "        self.fc1 = nn.Linear(g_input_dim, 256)\n",
    "        self.fc2 = nn.Linear(self.fc1.out_features, self.fc1.out_features * 2)\n",
    "        self.fc3 = nn.Linear(self.fc2.out_features, self.fc2.out_features * 2)\n",
    "        self.fc4 = nn.Linear(self.fc3.out_features, g_output_dim)\n",
    "\n",
    "    def forward(self, x):\n",
    "        x = F.leaky_relu(self.fc1(x), 0.2)\n",
    "        x = F.dropout(x, 0.3)\n",
    "        x = F.leaky_relu(self.fc2(x), 0.2)\n",
    "        x = F.dropout(x, 0.3)\n",
    "        x = F.leaky_relu(self.fc3(x), 0.2)\n",
    "        x = F.dropout(x, 0.3)\n",
    "\n",
    "        return torch.sigmoid(self.fc4(x))\n",
    "\n",
    "\n",
    "class Discriminator(nn.Module):\n",
    "\n",
    "    def __init__(self, d_input_dim) -> None:\n",
    "        super().__init__()\n",
    "        self.fc1 = nn.Linear(d_input_dim, 1024)\n",
    "        self.fc2 = nn.Linear(self.fc1.out_features, self.fc1.out_features // 2)\n",
    "        self.fc3 = nn.Linear(self.fc2.out_features, self.fc2.out_features // 2)\n",
    "        self.fc4 = nn.Linear(self.fc3.out_features, 1)\n",
    "\n",
    "    def forward(self, x):\n",
    "        x = F.leaky_relu(self.fc1(x), 0.2)\n",
    "        x = F.dropout(x, 0.3)\n",
    "        x = F.leaky_relu(self.fc2(x), 0.2)\n",
    "        x = F.dropout(x, 0.3)\n",
    "        x = F.leaky_relu(self.fc3(x), 0.2)\n",
    "        x = F.dropout(x, 0.3)\n",
    "\n",
    "        return torch.sigmoid(self.fc4(x))    "
   ]
  },
  {
   "cell_type": "code",
   "execution_count": null,
   "metadata": {},
   "outputs": [],
   "source": [
    "G = Generator(g_input_dim=z_dim, g_output_dim=mnist_dim).to(device)\n",
    "D = Discriminator(d_input_dim=mnist_dim).to(device)\n",
    "criterion = nn.BCELoss()\n",
    "\n",
    "writer.add_graph(G, input_to_model=torch.randn(batch_size, z_dim))\n",
    "\n",
    "# optimizer\n",
    "lr = 0.0002\n",
    "g_optimizer = torch.optim.Adam(G.parameters(), lr = lr)\n",
    "d_optimizer = torch.optim.Adam(D.parameters(), lr = lr)"
   ]
  },
  {
   "cell_type": "code",
   "execution_count": null,
   "metadata": {},
   "outputs": [],
   "source": [
    "def d_train(x):\n",
    "    D.zero_grad()\n",
    "\n",
    "    x_real, y_real = x.view(-1, mnist_dim).to(device), torch.ones(batch_size, 1).to(device)\n",
    "\n",
    "    d_output = D(x_real)\n",
    "    d_real_loss = criterion(d_output, y_real)\n",
    "    d_real_score = d_output\n",
    "\n",
    "    z = torch.randn(batch_size, z_dim).to(device)\n",
    "    x_fake, y_fake = G(z), torch.zeros(batch_size, 1).to(device)\n",
    "\n",
    "    d_output = D(x_fake)\n",
    "    d_fake_loss = criterion(d_output, y_fake)\n",
    "    d_fake_score = d_output\n",
    "\n",
    "    d_loss = d_real_loss + d_fake_loss\n",
    "    d_loss.backward()\n",
    "    d_optimizer.step()\n",
    "\n",
    "    return d_loss.item()\n",
    "\n",
    "\n",
    "def g_train(x):\n",
    "    G.zero_grad()\n",
    "    z = torch.randn(batch_size, z_dim).to(device)\n",
    "    y = torch.randn(batch_size, 1).to(device)\n",
    "\n",
    "    g_output = G(z)\n",
    "    d_output =  D(g_output)\n",
    "    g_loss = criterion(d_output, y)\n",
    "\n",
    "    g_loss.backward()\n",
    "    g_optimizer.step()\n",
    "\n",
    "    return g_loss.item()"
   ]
  },
  {
   "cell_type": "code",
   "execution_count": null,
   "metadata": {},
   "outputs": [],
   "source": [
    "epochs = 10\n",
    "step = 0\n",
    "for epoch in range(epochs):\n",
    "    d_losses, g_losses = [], []\n",
    "    for batch_idx, (x, _) in enumerate(train_loader):\n",
    "        step += 1\n",
    "        d_losses.append(d_train(x))\n",
    "        g_losses.append(g_train(x))\n",
    "        print('[%d/%d]: [%d/%d]: loss_d: %.3f, loss_g: %.3f' % (\n",
    "        epoch, epochs,batch_idx, len(train_loader), torch.mean(torch.FloatTensor(d_losses)), torch.mean(torch.FloatTensor(g_losses))))\n",
    "        if batch_idx % 10 == 0:\n",
    "            with torch.no_grad():\n",
    "                test_z = torch.randn(batch_size, z_dim).to(device)\n",
    "                generated = G(test_z)\n",
    "                img = img = torchvision.utils.make_grid(generated.view(generated.size(0), 1, 28, 28))\n",
    "                writer.add_image(f'mnist_{epoch}_{batch_idx}', img, global_step=step)\n",
    "\n",
    "writer.close()                "
   ]
  }
 ],
 "metadata": {
  "kernelspec": {
   "display_name": "py38",
   "language": "python",
   "name": "python3"
  },
  "language_info": {
   "codemirror_mode": {
    "name": "ipython",
    "version": 3
   },
   "file_extension": ".py",
   "mimetype": "text/x-python",
   "name": "python",
   "nbconvert_exporter": "python",
   "pygments_lexer": "ipython3",
   "version": "3.8.13"
  },
  "orig_nbformat": 4,
  "vscode": {
   "interpreter": {
    "hash": "5e388db450297362f23a90c05e3ff081ee330fd641b36492e58ae9093e0d933b"
   }
  }
 },
 "nbformat": 4,
 "nbformat_minor": 2
}
